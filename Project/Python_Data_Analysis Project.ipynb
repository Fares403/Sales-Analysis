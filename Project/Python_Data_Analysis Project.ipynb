{
 "cells": [
  {
   "cell_type": "markdown",
   "metadata": {
    "id": "jcjhePTczbDT"
   },
   "source": [
    "# PYTHON DATA ANALYSIS"
   ]
  },
  {
   "cell_type": "markdown",
   "metadata": {
    "id": "3HV_WMyjzbDZ"
   },
   "source": [
    "## Outline\n",
    "- Data Analysis Steps\n",
    "- Full Data Analysis Case-study\n",
    "    - BikeStores Analysis"
   ]
  },
  {
   "cell_type": "markdown",
   "metadata": {
    "id": "bclBnIb-zbDd"
   },
   "source": [
    "# Full Data Analysis Case-study (BikeStores Analysis)"
   ]
  },
  {
   "cell_type": "markdown",
   "metadata": {
    "id": "fM5VhCv3zbDe"
   },
   "source": [
    "### 1] Libraries & Data Importing"
   ]
  },
  {
   "cell_type": "markdown",
   "metadata": {
    "id": "o_PB64nIzbDf"
   },
   "source": [
    "##### Import libraries and read in the BikeStores csv file"
   ]
  },
  {
   "cell_type": "code",
   "execution_count": 28,
   "metadata": {
    "id": "Cdunbqv4zbDj"
   },
   "outputs": [],
   "source": [
    "import pandas as pd \n",
    "import numpy as np"
   ]
  },
  {
   "cell_type": "code",
   "execution_count": 29,
   "metadata": {},
   "outputs": [],
   "source": [
    "# read data \n",
    "BikeStores = pd.read_csv(r\"E:\\NTI - Python\\Python\\Full Project\\BikeStores.csv\")"
   ]
  },
  {
   "cell_type": "markdown",
   "metadata": {
    "id": "wTNMLj0FzbDk"
   },
   "source": [
    "### 2] Data Understanding (Asking Questions)"
   ]
  },
  {
   "cell_type": "code",
   "execution_count": 30,
   "metadata": {},
   "outputs": [],
   "source": [
    "#1- read data\n",
    "#2- print head and tail\n",
    "#3- info about data\n",
    "#4- describe data\n",
    "#5- Check missing values\n",
    "#6- if missing values in any column ---> handle\n",
    "#7- unique values and value count for each column\n",
    "#8- shape of data "
   ]
  },
  {
   "cell_type": "markdown",
   "metadata": {
    "id": "BRiR3MWNzbDl"
   },
   "source": [
    "##### Check the content of the DataFrame"
   ]
  },
  {
   "cell_type": "code",
   "execution_count": 31,
   "metadata": {
    "id": "pl96ad_xe503"
   },
   "outputs": [
    {
     "name": "stdout",
     "output_type": "stream",
     "text": [
      "<class 'pandas.core.frame.DataFrame'>\n",
      "RangeIndex: 4722 entries, 0 to 4721\n",
      "Data columns (total 12 columns):\n",
      " #   Column         Non-Null Count  Dtype  \n",
      "---  ------         --------------  -----  \n",
      " 0   order_id       4722 non-null   int64  \n",
      " 1   customers      4722 non-null   object \n",
      " 2   city           4722 non-null   object \n",
      " 3   state          4722 non-null   object \n",
      " 4   order_date     4722 non-null   object \n",
      " 5   total_units    4722 non-null   int64  \n",
      " 6   revenue        4722 non-null   float64\n",
      " 7   product_name   4722 non-null   object \n",
      " 8   category_name  4722 non-null   object \n",
      " 9   brand_name     4722 non-null   object \n",
      " 10  store_name     4722 non-null   object \n",
      " 11  sales_rep      4722 non-null   object \n",
      "dtypes: float64(1), int64(2), object(9)\n",
      "memory usage: 442.8+ KB\n"
     ]
    }
   ],
   "source": [
    "BikeStores.info()"
   ]
  },
  {
   "cell_type": "code",
   "execution_count": 32,
   "metadata": {},
   "outputs": [
    {
     "data": {
      "text/html": [
       "<div>\n",
       "<style scoped>\n",
       "    .dataframe tbody tr th:only-of-type {\n",
       "        vertical-align: middle;\n",
       "    }\n",
       "\n",
       "    .dataframe tbody tr th {\n",
       "        vertical-align: top;\n",
       "    }\n",
       "\n",
       "    .dataframe thead th {\n",
       "        text-align: right;\n",
       "    }\n",
       "</style>\n",
       "<table border=\"1\" class=\"dataframe\">\n",
       "  <thead>\n",
       "    <tr style=\"text-align: right;\">\n",
       "      <th></th>\n",
       "      <th>order_id</th>\n",
       "      <th>customers</th>\n",
       "      <th>city</th>\n",
       "      <th>state</th>\n",
       "      <th>order_date</th>\n",
       "      <th>total_units</th>\n",
       "      <th>revenue</th>\n",
       "      <th>product_name</th>\n",
       "      <th>category_name</th>\n",
       "      <th>brand_name</th>\n",
       "      <th>store_name</th>\n",
       "      <th>sales_rep</th>\n",
       "    </tr>\n",
       "  </thead>\n",
       "  <tbody>\n",
       "    <tr>\n",
       "      <th>0</th>\n",
       "      <td>1</td>\n",
       "      <td>Johnathan Velazquez</td>\n",
       "      <td>Pleasanton</td>\n",
       "      <td>CA</td>\n",
       "      <td>1/1/2016</td>\n",
       "      <td>2</td>\n",
       "      <td>1199.98</td>\n",
       "      <td>Electra Townie Original 7D EQ - 2016</td>\n",
       "      <td>Cruisers Bicycles</td>\n",
       "      <td>Electra</td>\n",
       "      <td>Santa Cruz Bikes</td>\n",
       "      <td>Mireya Copeland</td>\n",
       "    </tr>\n",
       "    <tr>\n",
       "      <th>1</th>\n",
       "      <td>1</td>\n",
       "      <td>Johnathan Velazquez</td>\n",
       "      <td>Pleasanton</td>\n",
       "      <td>CA</td>\n",
       "      <td>1/1/2016</td>\n",
       "      <td>1</td>\n",
       "      <td>599.99</td>\n",
       "      <td>Electra Townie Original 7D EQ - Women's - 2016</td>\n",
       "      <td>Cruisers Bicycles</td>\n",
       "      <td>Electra</td>\n",
       "      <td>Santa Cruz Bikes</td>\n",
       "      <td>Mireya Copeland</td>\n",
       "    </tr>\n",
       "    <tr>\n",
       "      <th>2</th>\n",
       "      <td>1</td>\n",
       "      <td>Johnathan Velazquez</td>\n",
       "      <td>Pleasanton</td>\n",
       "      <td>CA</td>\n",
       "      <td>1/1/2016</td>\n",
       "      <td>2</td>\n",
       "      <td>3098.00</td>\n",
       "      <td>Surly Straggler - 2016</td>\n",
       "      <td>Cyclocross Bicycles</td>\n",
       "      <td>Surly</td>\n",
       "      <td>Santa Cruz Bikes</td>\n",
       "      <td>Mireya Copeland</td>\n",
       "    </tr>\n",
       "    <tr>\n",
       "      <th>3</th>\n",
       "      <td>1</td>\n",
       "      <td>Johnathan Velazquez</td>\n",
       "      <td>Pleasanton</td>\n",
       "      <td>CA</td>\n",
       "      <td>1/1/2016</td>\n",
       "      <td>1</td>\n",
       "      <td>2899.99</td>\n",
       "      <td>Trek Fuel EX 8 29 - 2016</td>\n",
       "      <td>Mountain Bikes</td>\n",
       "      <td>Trek</td>\n",
       "      <td>Santa Cruz Bikes</td>\n",
       "      <td>Mireya Copeland</td>\n",
       "    </tr>\n",
       "    <tr>\n",
       "      <th>4</th>\n",
       "      <td>1</td>\n",
       "      <td>Johnathan Velazquez</td>\n",
       "      <td>Pleasanton</td>\n",
       "      <td>CA</td>\n",
       "      <td>1/1/2016</td>\n",
       "      <td>2</td>\n",
       "      <td>3599.98</td>\n",
       "      <td>Trek Remedy 29 Carbon Frameset - 2016</td>\n",
       "      <td>Mountain Bikes</td>\n",
       "      <td>Trek</td>\n",
       "      <td>Santa Cruz Bikes</td>\n",
       "      <td>Mireya Copeland</td>\n",
       "    </tr>\n",
       "  </tbody>\n",
       "</table>\n",
       "</div>"
      ],
      "text/plain": [
       "   order_id            customers        city state order_date  total_units  \\\n",
       "0         1  Johnathan Velazquez  Pleasanton    CA   1/1/2016            2   \n",
       "1         1  Johnathan Velazquez  Pleasanton    CA   1/1/2016            1   \n",
       "2         1  Johnathan Velazquez  Pleasanton    CA   1/1/2016            2   \n",
       "3         1  Johnathan Velazquez  Pleasanton    CA   1/1/2016            1   \n",
       "4         1  Johnathan Velazquez  Pleasanton    CA   1/1/2016            2   \n",
       "\n",
       "   revenue                                    product_name  \\\n",
       "0  1199.98            Electra Townie Original 7D EQ - 2016   \n",
       "1   599.99  Electra Townie Original 7D EQ - Women's - 2016   \n",
       "2  3098.00                          Surly Straggler - 2016   \n",
       "3  2899.99                        Trek Fuel EX 8 29 - 2016   \n",
       "4  3599.98           Trek Remedy 29 Carbon Frameset - 2016   \n",
       "\n",
       "         category_name brand_name        store_name        sales_rep  \n",
       "0    Cruisers Bicycles    Electra  Santa Cruz Bikes  Mireya Copeland  \n",
       "1    Cruisers Bicycles    Electra  Santa Cruz Bikes  Mireya Copeland  \n",
       "2  Cyclocross Bicycles      Surly  Santa Cruz Bikes  Mireya Copeland  \n",
       "3       Mountain Bikes       Trek  Santa Cruz Bikes  Mireya Copeland  \n",
       "4       Mountain Bikes       Trek  Santa Cruz Bikes  Mireya Copeland  "
      ]
     },
     "execution_count": 32,
     "metadata": {},
     "output_type": "execute_result"
    }
   ],
   "source": [
    "BikeStores.head()"
   ]
  },
  {
   "cell_type": "markdown",
   "metadata": {
    "id": "yQf6NX_FzbDm"
   },
   "source": [
    "##### How many rows and columns are there?"
   ]
  },
  {
   "cell_type": "code",
   "execution_count": 33,
   "metadata": {
    "id": "_T1vW8tozbDn"
   },
   "outputs": [
    {
     "data": {
      "text/plain": [
       "(4722, 12)"
      ]
     },
     "execution_count": 33,
     "metadata": {},
     "output_type": "execute_result"
    }
   ],
   "source": [
    "# Rows, Columns\n",
    "BikeStores.shape"
   ]
  },
  {
   "cell_type": "markdown",
   "metadata": {},
   "source": [
    "##### Check the data types "
   ]
  },
  {
   "cell_type": "code",
   "execution_count": 34,
   "metadata": {},
   "outputs": [
    {
     "data": {
      "text/plain": [
       "order_id           int64\n",
       "customers         object\n",
       "city              object\n",
       "state             object\n",
       "order_date        object\n",
       "total_units        int64\n",
       "revenue          float64\n",
       "product_name      object\n",
       "category_name     object\n",
       "brand_name        object\n",
       "store_name        object\n",
       "sales_rep         object\n",
       "dtype: object"
      ]
     },
     "execution_count": 34,
     "metadata": {},
     "output_type": "execute_result"
    }
   ],
   "source": [
    "# check data type\n",
    "BikeStores.dtypes"
   ]
  },
  {
   "cell_type": "code",
   "execution_count": null,
   "metadata": {},
   "outputs": [],
   "source": []
  },
  {
   "cell_type": "code",
   "execution_count": 35,
   "metadata": {},
   "outputs": [
    {
     "data": {
      "text/html": [
       "<div>\n",
       "<style scoped>\n",
       "    .dataframe tbody tr th:only-of-type {\n",
       "        vertical-align: middle;\n",
       "    }\n",
       "\n",
       "    .dataframe tbody tr th {\n",
       "        vertical-align: top;\n",
       "    }\n",
       "\n",
       "    .dataframe thead th {\n",
       "        text-align: right;\n",
       "    }\n",
       "</style>\n",
       "<table border=\"1\" class=\"dataframe\">\n",
       "  <thead>\n",
       "    <tr style=\"text-align: right;\">\n",
       "      <th></th>\n",
       "      <th>order_id</th>\n",
       "      <th>total_units</th>\n",
       "      <th>revenue</th>\n",
       "    </tr>\n",
       "  </thead>\n",
       "  <tbody>\n",
       "    <tr>\n",
       "      <th>count</th>\n",
       "      <td>4722.000000</td>\n",
       "      <td>4722.000000</td>\n",
       "      <td>4722.000000</td>\n",
       "    </tr>\n",
       "    <tr>\n",
       "      <th>mean</th>\n",
       "      <td>821.265354</td>\n",
       "      <td>1.498941</td>\n",
       "      <td>1816.812554</td>\n",
       "    </tr>\n",
       "    <tr>\n",
       "      <th>std</th>\n",
       "      <td>465.152168</td>\n",
       "      <td>0.500052</td>\n",
       "      <td>2228.160984</td>\n",
       "    </tr>\n",
       "    <tr>\n",
       "      <th>min</th>\n",
       "      <td>1.000000</td>\n",
       "      <td>1.000000</td>\n",
       "      <td>89.990000</td>\n",
       "    </tr>\n",
       "    <tr>\n",
       "      <th>25%</th>\n",
       "      <td>423.250000</td>\n",
       "      <td>1.000000</td>\n",
       "      <td>539.980000</td>\n",
       "    </tr>\n",
       "    <tr>\n",
       "      <th>50%</th>\n",
       "      <td>828.500000</td>\n",
       "      <td>1.000000</td>\n",
       "      <td>939.980000</td>\n",
       "    </tr>\n",
       "    <tr>\n",
       "      <th>75%</th>\n",
       "      <td>1226.000000</td>\n",
       "      <td>2.000000</td>\n",
       "      <td>1999.980000</td>\n",
       "    </tr>\n",
       "    <tr>\n",
       "      <th>max</th>\n",
       "      <td>1615.000000</td>\n",
       "      <td>2.000000</td>\n",
       "      <td>23999.980000</td>\n",
       "    </tr>\n",
       "  </tbody>\n",
       "</table>\n",
       "</div>"
      ],
      "text/plain": [
       "          order_id  total_units       revenue\n",
       "count  4722.000000  4722.000000   4722.000000\n",
       "mean    821.265354     1.498941   1816.812554\n",
       "std     465.152168     0.500052   2228.160984\n",
       "min       1.000000     1.000000     89.990000\n",
       "25%     423.250000     1.000000    539.980000\n",
       "50%     828.500000     1.000000    939.980000\n",
       "75%    1226.000000     2.000000   1999.980000\n",
       "max    1615.000000     2.000000  23999.980000"
      ]
     },
     "execution_count": 35,
     "metadata": {},
     "output_type": "execute_result"
    }
   ],
   "source": [
    "# Statistical Summary\n",
    "BikeStores.describe()"
   ]
  },
  {
   "cell_type": "markdown",
   "metadata": {
    "id": "Cmf07HWEzbDo"
   },
   "source": [
    "### 3] Data Wrangling (Cleaning & Manipulation)"
   ]
  },
  {
   "cell_type": "markdown",
   "metadata": {
    "id": "SLNiesMTzbDo"
   },
   "source": [
    "##### Are there any missing / duplicated data?"
   ]
  },
  {
   "cell_type": "code",
   "execution_count": 36,
   "metadata": {},
   "outputs": [
    {
     "data": {
      "text/plain": [
       "order_id         0\n",
       "customers        0\n",
       "city             0\n",
       "state            0\n",
       "order_date       0\n",
       "total_units      0\n",
       "revenue          0\n",
       "product_name     0\n",
       "category_name    0\n",
       "brand_name       0\n",
       "store_name       0\n",
       "sales_rep        0\n",
       "dtype: int64"
      ]
     },
     "execution_count": 36,
     "metadata": {},
     "output_type": "execute_result"
    }
   ],
   "source": [
    "BikeStores.isnull().sum()"
   ]
  },
  {
   "cell_type": "raw",
   "metadata": {},
   "source": [
    "#remove null\n",
    "#Replace >> \n",
    "## Numerical>> Mean , Categorical >> Mode\n",
    "data.fillna(....)\n",
    "data.dropna()"
   ]
  },
  {
   "cell_type": "code",
   "execution_count": 37,
   "metadata": {},
   "outputs": [
    {
     "data": {
      "text/html": [
       "<div>\n",
       "<style scoped>\n",
       "    .dataframe tbody tr th:only-of-type {\n",
       "        vertical-align: middle;\n",
       "    }\n",
       "\n",
       "    .dataframe tbody tr th {\n",
       "        vertical-align: top;\n",
       "    }\n",
       "\n",
       "    .dataframe thead th {\n",
       "        text-align: right;\n",
       "    }\n",
       "</style>\n",
       "<table border=\"1\" class=\"dataframe\">\n",
       "  <thead>\n",
       "    <tr style=\"text-align: right;\">\n",
       "      <th></th>\n",
       "      <th>order_id</th>\n",
       "      <th>customers</th>\n",
       "      <th>city</th>\n",
       "      <th>state</th>\n",
       "      <th>order_date</th>\n",
       "      <th>total_units</th>\n",
       "      <th>revenue</th>\n",
       "      <th>product_name</th>\n",
       "      <th>category_name</th>\n",
       "      <th>brand_name</th>\n",
       "      <th>store_name</th>\n",
       "      <th>sales_rep</th>\n",
       "    </tr>\n",
       "  </thead>\n",
       "  <tbody>\n",
       "    <tr>\n",
       "      <th>0</th>\n",
       "      <td>1</td>\n",
       "      <td>Johnathan Velazquez</td>\n",
       "      <td>Pleasanton</td>\n",
       "      <td>CA</td>\n",
       "      <td>1/1/2016</td>\n",
       "      <td>2</td>\n",
       "      <td>1199.98</td>\n",
       "      <td>Electra Townie Original 7D EQ - 2016</td>\n",
       "      <td>Cruisers Bicycles</td>\n",
       "      <td>Electra</td>\n",
       "      <td>Santa Cruz Bikes</td>\n",
       "      <td>Mireya Copeland</td>\n",
       "    </tr>\n",
       "  </tbody>\n",
       "</table>\n",
       "</div>"
      ],
      "text/plain": [
       "   order_id            customers        city state order_date  total_units  \\\n",
       "0         1  Johnathan Velazquez  Pleasanton    CA   1/1/2016            2   \n",
       "\n",
       "   revenue                          product_name      category_name  \\\n",
       "0  1199.98  Electra Townie Original 7D EQ - 2016  Cruisers Bicycles   \n",
       "\n",
       "  brand_name        store_name        sales_rep  \n",
       "0    Electra  Santa Cruz Bikes  Mireya Copeland  "
      ]
     },
     "execution_count": 37,
     "metadata": {},
     "output_type": "execute_result"
    }
   ],
   "source": [
    "# Remove null\n",
    "BikeStores.dropna().head(1)"
   ]
  },
  {
   "cell_type": "code",
   "execution_count": 38,
   "metadata": {},
   "outputs": [
    {
     "data": {
      "text/plain": [
       "0         Cruisers Bicycles\n",
       "1         Cruisers Bicycles\n",
       "2       Cyclocross Bicycles\n",
       "3            Mountain Bikes\n",
       "4            Mountain Bikes\n",
       "               ...         \n",
       "4717         Mountain Bikes\n",
       "4718             Road Bikes\n",
       "4719      Cruisers Bicycles\n",
       "4720             Road Bikes\n",
       "4721         Electric Bikes\n",
       "Name: category_name, Length: 4722, dtype: object"
      ]
     },
     "execution_count": 38,
     "metadata": {},
     "output_type": "execute_result"
    }
   ],
   "source": [
    "# replace null with mean\n",
    "BikeStores[\"revenue\"].fillna(BikeStores[\"revenue\"].mean())\n",
    "# replace null with mode\n",
    "BikeStores[\"category_name\"].fillna(BikeStores[\"revenue\"].mode()[0])"
   ]
  },
  {
   "cell_type": "code",
   "execution_count": 39,
   "metadata": {},
   "outputs": [
    {
     "data": {
      "text/plain": [
       "np.int64(0)"
      ]
     },
     "execution_count": 39,
     "metadata": {},
     "output_type": "execute_result"
    }
   ],
   "source": [
    "# Check for duplicated data\n",
    "\n",
    "BikeStores.duplicated().sum()"
   ]
  },
  {
   "cell_type": "markdown",
   "metadata": {
    "id": "1vPyGDAUzbDp"
   },
   "source": [
    "##### Double-check for the columns names and update any of them if needed"
   ]
  },
  {
   "cell_type": "code",
   "execution_count": 40,
   "metadata": {
    "id": "ZFkdW9XEzbDq",
    "scrolled": true
   },
   "outputs": [
    {
     "data": {
      "text/plain": [
       "Index(['order_id', 'customers', 'city', 'state', 'order_date', 'total_units',\n",
       "       'revenue', 'product_name', 'category_name', 'brand_name', 'store_name',\n",
       "       'sales_rep'],\n",
       "      dtype='object')"
      ]
     },
     "execution_count": 40,
     "metadata": {},
     "output_type": "execute_result"
    }
   ],
   "source": [
    "BikeStores.columns"
   ]
  },
  {
   "cell_type": "markdown",
   "metadata": {
    "id": "jkdSl9Y4zbDq"
   },
   "source": [
    "##### Can you convert the City column to UpperCases?"
   ]
  },
  {
   "cell_type": "code",
   "execution_count": 45,
   "metadata": {
    "id": "u--h0s5rzbDr"
   },
   "outputs": [],
   "source": [
    "BikeStores['city'] = BikeStores['city'].str.upper()"
   ]
  },
  {
   "cell_type": "code",
   "execution_count": 46,
   "metadata": {},
   "outputs": [
    {
     "data": {
      "text/plain": [
       "0       PLEASANTON\n",
       "1       PLEASANTON\n",
       "2       PLEASANTON\n",
       "3       PLEASANTON\n",
       "4       PLEASANTON\n",
       "           ...    \n",
       "4717       HOUSTON\n",
       "4718       HOUSTON\n",
       "4719        FORNEY\n",
       "4720        FORNEY\n",
       "4721        FORNEY\n",
       "Name: city, Length: 4722, dtype: object"
      ]
     },
     "execution_count": 46,
     "metadata": {},
     "output_type": "execute_result"
    }
   ],
   "source": [
    "BikeStores['city']"
   ]
  },
  {
   "cell_type": "markdown",
   "metadata": {
    "id": "dUhsCRIrzbDr"
   },
   "source": [
    "### 4] Data Analysis & Visualization (EDA & Statistical Analysis)\n",
    "#### Exploratory Data Analysis"
   ]
  },
  {
   "cell_type": "code",
   "execution_count": 47,
   "metadata": {},
   "outputs": [
    {
     "name": "stdout",
     "output_type": "stream",
     "text": [
      "city\n",
      "SCARSDALE              61\n",
      "MOUNT VERNON           60\n",
      "SAN ANGELO             53\n",
      "BALLSTON SPA           52\n",
      "CANANDAIGUA            50\n",
      "                       ..\n",
      "SPRINGFIELD GARDENS     3\n",
      "MIDDLE VILLAGE          3\n",
      "YUBA CITY               3\n",
      "WESTBURY                2\n",
      "TONAWANDA               2\n",
      "Name: count, Length: 195, dtype: int64\n"
     ]
    }
   ],
   "source": [
    "#Explorare data\n",
    "print(BikeStores[\"city\"].value_counts())"
   ]
  },
  {
   "cell_type": "markdown",
   "metadata": {
    "id": "XGxgPDLxzbDr"
   },
   "source": [
    "##### What is the average Revenue?"
   ]
  },
  {
   "cell_type": "code",
   "execution_count": 48,
   "metadata": {},
   "outputs": [
    {
     "data": {
      "text/plain": [
       "np.float64(1816.812554002541)"
      ]
     },
     "execution_count": 48,
     "metadata": {},
     "output_type": "execute_result"
    }
   ],
   "source": [
    "BikeStores['revenue'].mean()"
   ]
  },
  {
   "cell_type": "markdown",
   "metadata": {
    "id": "cvKtE5P0zbDr"
   },
   "source": [
    "##### What were the highest and lowest Revenue?"
   ]
  },
  {
   "cell_type": "code",
   "execution_count": 56,
   "metadata": {},
   "outputs": [
    {
     "name": "stdout",
     "output_type": "stream",
     "text": [
      "max revenue 23999.98\n",
      "min revenue 89.99\n"
     ]
    }
   ],
   "source": [
    "print('max revenue', max(BikeStores['revenue']))\n",
    "print('min revenue', min(BikeStores['revenue']))"
   ]
  },
  {
   "cell_type": "markdown",
   "metadata": {
    "id": "CudCgOX6zbDs"
   },
   "source": [
    "##### How many orders have 'Road Bikes'  as a category name ?"
   ]
  },
  {
   "cell_type": "code",
   "execution_count": 62,
   "metadata": {
    "id": "cXOT40uGgf-p"
   },
   "outputs": [
    {
     "data": {
      "text/plain": [
       "category_name\n",
       "Children Bicycles       689444\n",
       "Comfort Bicycles        430472\n",
       "Cruisers Bicycles      1048599\n",
       "Cyclocross Bicycles     163523\n",
       "Electric Bikes          201041\n",
       "Mountain Bikes          908716\n",
       "Road Bikes              436220\n",
       "Name: order_id, dtype: int64"
      ]
     },
     "execution_count": 62,
     "metadata": {},
     "output_type": "execute_result"
    }
   ],
   "source": [
    "BikeStores.groupby(BikeStores['category_name'])['order_id'].sum()"
   ]
  },
  {
   "cell_type": "markdown",
   "metadata": {},
   "source": [
    "##### Display the data which revenue greater than 10000"
   ]
  },
  {
   "cell_type": "code",
   "execution_count": 64,
   "metadata": {},
   "outputs": [
    {
     "data": {
      "text/html": [
       "<div>\n",
       "<style scoped>\n",
       "    .dataframe tbody tr th:only-of-type {\n",
       "        vertical-align: middle;\n",
       "    }\n",
       "\n",
       "    .dataframe tbody tr th {\n",
       "        vertical-align: top;\n",
       "    }\n",
       "\n",
       "    .dataframe thead th {\n",
       "        text-align: right;\n",
       "    }\n",
       "</style>\n",
       "<table border=\"1\" class=\"dataframe\">\n",
       "  <thead>\n",
       "    <tr style=\"text-align: right;\">\n",
       "      <th></th>\n",
       "      <th>order_id</th>\n",
       "      <th>customers</th>\n",
       "      <th>city</th>\n",
       "      <th>state</th>\n",
       "      <th>order_date</th>\n",
       "      <th>total_units</th>\n",
       "      <th>revenue</th>\n",
       "      <th>product_name</th>\n",
       "      <th>category_name</th>\n",
       "      <th>brand_name</th>\n",
       "      <th>store_name</th>\n",
       "      <th>sales_rep</th>\n",
       "    </tr>\n",
       "  </thead>\n",
       "  <tbody>\n",
       "    <tr>\n",
       "      <th>0</th>\n",
       "      <td>1</td>\n",
       "      <td>Johnathan Velazquez</td>\n",
       "      <td>PLEASANTON</td>\n",
       "      <td>CA</td>\n",
       "      <td>1/1/2016</td>\n",
       "      <td>2</td>\n",
       "      <td>1199.98</td>\n",
       "      <td>Electra Townie Original 7D EQ - 2016</td>\n",
       "      <td>Cruisers Bicycles</td>\n",
       "      <td>Electra</td>\n",
       "      <td>Santa Cruz Bikes</td>\n",
       "      <td>Mireya Copeland</td>\n",
       "    </tr>\n",
       "    <tr>\n",
       "      <th>2</th>\n",
       "      <td>1</td>\n",
       "      <td>Johnathan Velazquez</td>\n",
       "      <td>PLEASANTON</td>\n",
       "      <td>CA</td>\n",
       "      <td>1/1/2016</td>\n",
       "      <td>2</td>\n",
       "      <td>3098.00</td>\n",
       "      <td>Surly Straggler - 2016</td>\n",
       "      <td>Cyclocross Bicycles</td>\n",
       "      <td>Surly</td>\n",
       "      <td>Santa Cruz Bikes</td>\n",
       "      <td>Mireya Copeland</td>\n",
       "    </tr>\n",
       "    <tr>\n",
       "      <th>3</th>\n",
       "      <td>1</td>\n",
       "      <td>Johnathan Velazquez</td>\n",
       "      <td>PLEASANTON</td>\n",
       "      <td>CA</td>\n",
       "      <td>1/1/2016</td>\n",
       "      <td>1</td>\n",
       "      <td>2899.99</td>\n",
       "      <td>Trek Fuel EX 8 29 - 2016</td>\n",
       "      <td>Mountain Bikes</td>\n",
       "      <td>Trek</td>\n",
       "      <td>Santa Cruz Bikes</td>\n",
       "      <td>Mireya Copeland</td>\n",
       "    </tr>\n",
       "    <tr>\n",
       "      <th>4</th>\n",
       "      <td>1</td>\n",
       "      <td>Johnathan Velazquez</td>\n",
       "      <td>PLEASANTON</td>\n",
       "      <td>CA</td>\n",
       "      <td>1/1/2016</td>\n",
       "      <td>2</td>\n",
       "      <td>3599.98</td>\n",
       "      <td>Trek Remedy 29 Carbon Frameset - 2016</td>\n",
       "      <td>Mountain Bikes</td>\n",
       "      <td>Trek</td>\n",
       "      <td>Santa Cruz Bikes</td>\n",
       "      <td>Mireya Copeland</td>\n",
       "    </tr>\n",
       "    <tr>\n",
       "      <th>5</th>\n",
       "      <td>2</td>\n",
       "      <td>Jaqueline Cummings</td>\n",
       "      <td>HUNTINGTON STATION</td>\n",
       "      <td>NY</td>\n",
       "      <td>1/1/2016</td>\n",
       "      <td>2</td>\n",
       "      <td>1199.98</td>\n",
       "      <td>Electra Townie Original 7D EQ - 2016</td>\n",
       "      <td>Cruisers Bicycles</td>\n",
       "      <td>Electra</td>\n",
       "      <td>Baldwin Bikes</td>\n",
       "      <td>Marcelene Boyer</td>\n",
       "    </tr>\n",
       "    <tr>\n",
       "      <th>...</th>\n",
       "      <td>...</td>\n",
       "      <td>...</td>\n",
       "      <td>...</td>\n",
       "      <td>...</td>\n",
       "      <td>...</td>\n",
       "      <td>...</td>\n",
       "      <td>...</td>\n",
       "      <td>...</td>\n",
       "      <td>...</td>\n",
       "      <td>...</td>\n",
       "      <td>...</td>\n",
       "      <td>...</td>\n",
       "    </tr>\n",
       "    <tr>\n",
       "      <th>4715</th>\n",
       "      <td>1613</td>\n",
       "      <td>Debra Burks</td>\n",
       "      <td>ORCHARD PARK</td>\n",
       "      <td>NY</td>\n",
       "      <td>18/11/2018</td>\n",
       "      <td>1</td>\n",
       "      <td>4999.99</td>\n",
       "      <td>Trek Domane SL 7 Women's - 2018</td>\n",
       "      <td>Road Bikes</td>\n",
       "      <td>Trek</td>\n",
       "      <td>Baldwin Bikes</td>\n",
       "      <td>Marcelene Boyer</td>\n",
       "    </tr>\n",
       "    <tr>\n",
       "      <th>4717</th>\n",
       "      <td>1614</td>\n",
       "      <td>Dorthey Jackson</td>\n",
       "      <td>HOUSTON</td>\n",
       "      <td>TX</td>\n",
       "      <td>28/11/2018</td>\n",
       "      <td>1</td>\n",
       "      <td>1499.00</td>\n",
       "      <td>Surly Krampus - 2018</td>\n",
       "      <td>Mountain Bikes</td>\n",
       "      <td>Surly</td>\n",
       "      <td>Rowlett Bikes</td>\n",
       "      <td>Kali Vargas</td>\n",
       "    </tr>\n",
       "    <tr>\n",
       "      <th>4718</th>\n",
       "      <td>1614</td>\n",
       "      <td>Dorthey Jackson</td>\n",
       "      <td>HOUSTON</td>\n",
       "      <td>TX</td>\n",
       "      <td>28/11/2018</td>\n",
       "      <td>2</td>\n",
       "      <td>4599.98</td>\n",
       "      <td>Trek Emonda ALR 6 - 2018</td>\n",
       "      <td>Road Bikes</td>\n",
       "      <td>Trek</td>\n",
       "      <td>Rowlett Bikes</td>\n",
       "      <td>Kali Vargas</td>\n",
       "    </tr>\n",
       "    <tr>\n",
       "      <th>4720</th>\n",
       "      <td>1615</td>\n",
       "      <td>Sarita Parks</td>\n",
       "      <td>FORNEY</td>\n",
       "      <td>TX</td>\n",
       "      <td>28/12/2018</td>\n",
       "      <td>1</td>\n",
       "      <td>2499.99</td>\n",
       "      <td>Trek Domane SL 5 Disc - 2018</td>\n",
       "      <td>Road Bikes</td>\n",
       "      <td>Trek</td>\n",
       "      <td>Rowlett Bikes</td>\n",
       "      <td>Kali Vargas</td>\n",
       "    </tr>\n",
       "    <tr>\n",
       "      <th>4721</th>\n",
       "      <td>1615</td>\n",
       "      <td>Sarita Parks</td>\n",
       "      <td>FORNEY</td>\n",
       "      <td>TX</td>\n",
       "      <td>28/12/2018</td>\n",
       "      <td>2</td>\n",
       "      <td>4599.98</td>\n",
       "      <td>Trek Verve+ Lowstep - 2018</td>\n",
       "      <td>Electric Bikes</td>\n",
       "      <td>Trek</td>\n",
       "      <td>Rowlett Bikes</td>\n",
       "      <td>Kali Vargas</td>\n",
       "    </tr>\n",
       "  </tbody>\n",
       "</table>\n",
       "<p>2114 rows × 12 columns</p>\n",
       "</div>"
      ],
      "text/plain": [
       "      order_id            customers                city state  order_date  \\\n",
       "0            1  Johnathan Velazquez          PLEASANTON    CA    1/1/2016   \n",
       "2            1  Johnathan Velazquez          PLEASANTON    CA    1/1/2016   \n",
       "3            1  Johnathan Velazquez          PLEASANTON    CA    1/1/2016   \n",
       "4            1  Johnathan Velazquez          PLEASANTON    CA    1/1/2016   \n",
       "5            2   Jaqueline Cummings  HUNTINGTON STATION    NY    1/1/2016   \n",
       "...        ...                  ...                 ...   ...         ...   \n",
       "4715      1613          Debra Burks        ORCHARD PARK    NY  18/11/2018   \n",
       "4717      1614      Dorthey Jackson             HOUSTON    TX  28/11/2018   \n",
       "4718      1614      Dorthey Jackson             HOUSTON    TX  28/11/2018   \n",
       "4720      1615         Sarita Parks              FORNEY    TX  28/12/2018   \n",
       "4721      1615         Sarita Parks              FORNEY    TX  28/12/2018   \n",
       "\n",
       "      total_units  revenue                           product_name  \\\n",
       "0               2  1199.98   Electra Townie Original 7D EQ - 2016   \n",
       "2               2  3098.00                 Surly Straggler - 2016   \n",
       "3               1  2899.99               Trek Fuel EX 8 29 - 2016   \n",
       "4               2  3599.98  Trek Remedy 29 Carbon Frameset - 2016   \n",
       "5               2  1199.98   Electra Townie Original 7D EQ - 2016   \n",
       "...           ...      ...                                    ...   \n",
       "4715            1  4999.99        Trek Domane SL 7 Women's - 2018   \n",
       "4717            1  1499.00                   Surly Krampus - 2018   \n",
       "4718            2  4599.98               Trek Emonda ALR 6 - 2018   \n",
       "4720            1  2499.99           Trek Domane SL 5 Disc - 2018   \n",
       "4721            2  4599.98             Trek Verve+ Lowstep - 2018   \n",
       "\n",
       "            category_name brand_name        store_name        sales_rep  \n",
       "0       Cruisers Bicycles    Electra  Santa Cruz Bikes  Mireya Copeland  \n",
       "2     Cyclocross Bicycles      Surly  Santa Cruz Bikes  Mireya Copeland  \n",
       "3          Mountain Bikes       Trek  Santa Cruz Bikes  Mireya Copeland  \n",
       "4          Mountain Bikes       Trek  Santa Cruz Bikes  Mireya Copeland  \n",
       "5       Cruisers Bicycles    Electra     Baldwin Bikes  Marcelene Boyer  \n",
       "...                   ...        ...               ...              ...  \n",
       "4715           Road Bikes       Trek     Baldwin Bikes  Marcelene Boyer  \n",
       "4717       Mountain Bikes      Surly     Rowlett Bikes      Kali Vargas  \n",
       "4718           Road Bikes       Trek     Rowlett Bikes      Kali Vargas  \n",
       "4720           Road Bikes       Trek     Rowlett Bikes      Kali Vargas  \n",
       "4721       Electric Bikes       Trek     Rowlett Bikes      Kali Vargas  \n",
       "\n",
       "[2114 rows x 12 columns]"
      ]
     },
     "execution_count": 64,
     "metadata": {},
     "output_type": "execute_result"
    }
   ],
   "source": [
    "BikeStores[BikeStores['revenue']> 1000]"
   ]
  },
  {
   "cell_type": "markdown",
   "metadata": {},
   "source": [
    "##### what is the total revenue for each Brand ?"
   ]
  },
  {
   "cell_type": "code",
   "execution_count": 65,
   "metadata": {},
   "outputs": [
    {
     "data": {
      "text/plain": [
       "brand_name\n",
       "Electra         1344143.79\n",
       "Haro             207096.69\n",
       "Heller           193798.71\n",
       "Pure Cycles      166164.00\n",
       "Ritchey           88498.82\n",
       "Strider            4849.75\n",
       "Sun Bicycles     381919.69\n",
       "Surly           1063135.82\n",
       "Trek            5129381.61\n",
       "Name: revenue, dtype: float64"
      ]
     },
     "execution_count": 65,
     "metadata": {},
     "output_type": "execute_result"
    }
   ],
   "source": [
    "BikeStores.groupby(['brand_name'])['revenue'].sum()"
   ]
  },
  {
   "cell_type": "markdown",
   "metadata": {},
   "source": [
    "##### what is the total revenue for each Category Name ?"
   ]
  },
  {
   "cell_type": "code",
   "execution_count": 66,
   "metadata": {},
   "outputs": [
    {
     "data": {
      "text/plain": [
       "category_name\n",
       "Children Bicycles       327888.21\n",
       "Comfort Bicycles        438506.87\n",
       "Cruisers Bicycles      1109151.04\n",
       "Cyclocross Bicycles     799874.60\n",
       "Electric Bikes         1020236.85\n",
       "Mountain Bikes         3030775.71\n",
       "Road Bikes             1852555.60\n",
       "Name: revenue, dtype: float64"
      ]
     },
     "execution_count": 66,
     "metadata": {},
     "output_type": "execute_result"
    }
   ],
   "source": [
    "BikeStores.groupby([\"category_name\"])['revenue'].sum()"
   ]
  },
  {
   "cell_type": "markdown",
   "metadata": {
    "id": "3lX0YPi7zbDu"
   },
   "source": [
    "# GOOD LUCK!"
   ]
  }
 ],
 "metadata": {
  "colab": {
   "collapsed_sections": [
    "jcjhePTczbDT",
    "bclBnIb-zbDd",
    "fM5VhCv3zbDe",
    "o_PB64nIzbDf",
    "wTNMLj0FzbDk",
    "BRiR3MWNzbDl",
    "yQf6NX_FzbDm",
    "Cmf07HWEzbDo",
    "SLNiesMTzbDo",
    "1vPyGDAUzbDp",
    "jkdSl9Y4zbDq",
    "dUhsCRIrzbDr",
    "XGxgPDLxzbDr",
    "cvKtE5P0zbDr",
    "CudCgOX6zbDs",
    "T9WAl_CnzbDs",
    "qg5WsJrIzbDt",
    "c0G2Fv7nzbDt",
    "sKwL9lepzbDt",
    "2J9_exx1zbDu",
    "o2ZV6PFHzbDu",
    "tQWwaQHXzbDu",
    "TuVJ8pNbzbDv"
   ],
   "provenance": []
  },
  "kernelspec": {
   "display_name": "Python 3",
   "language": "python",
   "name": "python3"
  },
  "language_info": {
   "codemirror_mode": {
    "name": "ipython",
    "version": 3
   },
   "file_extension": ".py",
   "mimetype": "text/x-python",
   "name": "python",
   "nbconvert_exporter": "python",
   "pygments_lexer": "ipython3",
   "version": "3.11.1"
  }
 },
 "nbformat": 4,
 "nbformat_minor": 1
}
